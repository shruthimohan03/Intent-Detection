{
 "cells": [
  {
   "cell_type": "markdown",
   "id": "e44fbeb9",
   "metadata": {},
   "source": [
    "### Importing the dataset"
   ]
  },
  {
   "cell_type": "code",
   "execution_count": 1,
   "id": "971a2edc",
   "metadata": {},
   "outputs": [
    {
     "data": {
      "text/html": [
       "<div>\n",
       "<style scoped>\n",
       "    .dataframe tbody tr th:only-of-type {\n",
       "        vertical-align: middle;\n",
       "    }\n",
       "\n",
       "    .dataframe tbody tr th {\n",
       "        vertical-align: top;\n",
       "    }\n",
       "\n",
       "    .dataframe thead th {\n",
       "        text-align: right;\n",
       "    }\n",
       "</style>\n",
       "<table border=\"1\" class=\"dataframe\">\n",
       "  <thead>\n",
       "    <tr style=\"text-align: right;\">\n",
       "      <th></th>\n",
       "      <th>sentence</th>\n",
       "      <th>label</th>\n",
       "    </tr>\n",
       "  </thead>\n",
       "  <tbody>\n",
       "    <tr>\n",
       "      <th>0</th>\n",
       "      <td>You guys provide EMI option?</td>\n",
       "      <td>EMI</td>\n",
       "    </tr>\n",
       "    <tr>\n",
       "      <th>1</th>\n",
       "      <td>Do you offer Zero Percent EMI payment options?</td>\n",
       "      <td>EMI</td>\n",
       "    </tr>\n",
       "    <tr>\n",
       "      <th>2</th>\n",
       "      <td>0% EMI.</td>\n",
       "      <td>EMI</td>\n",
       "    </tr>\n",
       "    <tr>\n",
       "      <th>3</th>\n",
       "      <td>EMI</td>\n",
       "      <td>EMI</td>\n",
       "    </tr>\n",
       "    <tr>\n",
       "      <th>4</th>\n",
       "      <td>I want in installment</td>\n",
       "      <td>EMI</td>\n",
       "    </tr>\n",
       "  </tbody>\n",
       "</table>\n",
       "</div>"
      ],
      "text/plain": [
       "                                         sentence label\n",
       "0                    You guys provide EMI option?   EMI\n",
       "1  Do you offer Zero Percent EMI payment options?   EMI\n",
       "2                                         0% EMI.   EMI\n",
       "3                                             EMI   EMI\n",
       "4                           I want in installment   EMI"
      ]
     },
     "execution_count": 1,
     "metadata": {},
     "output_type": "execute_result"
    }
   ],
   "source": [
    "import pandas as pd\n",
    "data=pd.read_csv('sofmattress_train.csv')\n",
    "data.head()"
   ]
  },
  {
   "cell_type": "markdown",
   "id": "3389a2c3",
   "metadata": {},
   "source": [
    "### What are the classification labels"
   ]
  },
  {
   "cell_type": "code",
   "execution_count": 2,
   "id": "09aa7753",
   "metadata": {},
   "outputs": [
    {
     "data": {
      "text/plain": [
       "array(['EMI', 'COD', 'ORTHO_FEATURES', 'ERGO_FEATURES', 'COMPARISON',\n",
       "       'WARRANTY', '100_NIGHT_TRIAL_OFFER', 'SIZE_CUSTOMIZATION',\n",
       "       'WHAT_SIZE_TO_ORDER', 'LEAD_GEN', 'CHECK_PINCODE', 'DISTRIBUTORS',\n",
       "       'MATTRESS_COST', 'PRODUCT_VARIANTS', 'ABOUT_SOF_MATTRESS',\n",
       "       'DELAY_IN_DELIVERY', 'ORDER_STATUS', 'RETURN_EXCHANGE',\n",
       "       'CANCEL_ORDER', 'PILLOWS', 'OFFERS'], dtype=object)"
      ]
     },
     "execution_count": 2,
     "metadata": {},
     "output_type": "execute_result"
    }
   ],
   "source": [
    "data['label'].unique()"
   ]
  },
  {
   "cell_type": "code",
   "execution_count": 3,
   "id": "b9bc560a",
   "metadata": {},
   "outputs": [
    {
     "name": "stdout",
     "output_type": "stream",
     "text": [
      "<class 'pandas.core.frame.DataFrame'>\n",
      "RangeIndex: 328 entries, 0 to 327\n",
      "Data columns (total 2 columns):\n",
      " #   Column    Non-Null Count  Dtype \n",
      "---  ------    --------------  ----- \n",
      " 0   sentence  328 non-null    object\n",
      " 1   label     328 non-null    object\n",
      "dtypes: object(2)\n",
      "memory usage: 5.2+ KB\n"
     ]
    }
   ],
   "source": [
    "data.info()"
   ]
  },
  {
   "cell_type": "markdown",
   "id": "47050498",
   "metadata": {},
   "source": [
    "#### No null values"
   ]
  },
  {
   "cell_type": "markdown",
   "id": "0fb3344a",
   "metadata": {},
   "source": [
    "### Initial approach was to use a pre-trained transformer like BERT but since there are only ~300 rows, it can lead to overfitting and so going with traditional ML models"
   ]
  },
  {
   "cell_type": "markdown",
   "id": "607bb2b4",
   "metadata": {},
   "source": [
    "### Preprocessing + Tokenization + Stop words removal"
   ]
  },
  {
   "cell_type": "code",
   "execution_count": 4,
   "id": "b2880fc9",
   "metadata": {},
   "outputs": [
    {
     "name": "stderr",
     "output_type": "stream",
     "text": [
      "[nltk_data] Downloading package stopwords to C:\\Users\\Shruthi\n",
      "[nltk_data]     Mohan\\AppData\\Roaming\\nltk_data...\n",
      "[nltk_data]   Package stopwords is already up-to-date!\n",
      "[nltk_data] Downloading package punkt to C:\\Users\\Shruthi\n",
      "[nltk_data]     Mohan\\AppData\\Roaming\\nltk_data...\n",
      "[nltk_data]   Package punkt is already up-to-date!\n"
     ]
    },
    {
     "data": {
      "text/html": [
       "<div>\n",
       "<style scoped>\n",
       "    .dataframe tbody tr th:only-of-type {\n",
       "        vertical-align: middle;\n",
       "    }\n",
       "\n",
       "    .dataframe tbody tr th {\n",
       "        vertical-align: top;\n",
       "    }\n",
       "\n",
       "    .dataframe thead th {\n",
       "        text-align: right;\n",
       "    }\n",
       "</style>\n",
       "<table border=\"1\" class=\"dataframe\">\n",
       "  <thead>\n",
       "    <tr style=\"text-align: right;\">\n",
       "      <th></th>\n",
       "      <th>sentence</th>\n",
       "      <th>cleaned_sentence</th>\n",
       "    </tr>\n",
       "  </thead>\n",
       "  <tbody>\n",
       "    <tr>\n",
       "      <th>0</th>\n",
       "      <td>You guys provide EMI option?</td>\n",
       "      <td>guys provide emi option</td>\n",
       "    </tr>\n",
       "    <tr>\n",
       "      <th>1</th>\n",
       "      <td>Do you offer Zero Percent EMI payment options?</td>\n",
       "      <td>offer zero percent emi payment options</td>\n",
       "    </tr>\n",
       "    <tr>\n",
       "      <th>2</th>\n",
       "      <td>0% EMI.</td>\n",
       "      <td>emi</td>\n",
       "    </tr>\n",
       "    <tr>\n",
       "      <th>3</th>\n",
       "      <td>EMI</td>\n",
       "      <td>emi</td>\n",
       "    </tr>\n",
       "    <tr>\n",
       "      <th>4</th>\n",
       "      <td>I want in installment</td>\n",
       "      <td>want installment</td>\n",
       "    </tr>\n",
       "  </tbody>\n",
       "</table>\n",
       "</div>"
      ],
      "text/plain": [
       "                                         sentence  \\\n",
       "0                    You guys provide EMI option?   \n",
       "1  Do you offer Zero Percent EMI payment options?   \n",
       "2                                         0% EMI.   \n",
       "3                                             EMI   \n",
       "4                           I want in installment   \n",
       "\n",
       "                         cleaned_sentence  \n",
       "0                 guys provide emi option  \n",
       "1  offer zero percent emi payment options  \n",
       "2                                     emi  \n",
       "3                                     emi  \n",
       "4                        want installment  "
      ]
     },
     "execution_count": 4,
     "metadata": {},
     "output_type": "execute_result"
    }
   ],
   "source": [
    "import re\n",
    "from nltk.corpus import stopwords\n",
    "from nltk.tokenize import word_tokenize\n",
    "\n",
    "import nltk\n",
    "nltk.download('stopwords')\n",
    "nltk.download('punkt')\n",
    "\n",
    "def preprocess_text(text):\n",
    "    text = text.lower()\n",
    "    text = re.sub(r'[^a-z\\s]', '', text)\n",
    "    tokens = word_tokenize(text)\n",
    "    stop_words = set(stopwords.words('english'))\n",
    "    tokens = [word for word in tokens if word not in stop_words]\n",
    "    return ' '.join(tokens)\n",
    "\n",
    "data['cleaned_sentence'] = data['sentence'].apply(preprocess_text)\n",
    "data[['sentence', 'cleaned_sentence']].head()"
   ]
  },
  {
   "cell_type": "markdown",
   "id": "367cd0e2",
   "metadata": {},
   "source": [
    "### Label Encoding to use nerual network"
   ]
  },
  {
   "cell_type": "code",
   "execution_count": 5,
   "id": "198d4610",
   "metadata": {},
   "outputs": [],
   "source": [
    "X = data['cleaned_sentence']\n",
    "y = data['label']\n",
    "\n",
    "from sklearn.preprocessing import LabelEncoder\n",
    "label_encoder = LabelEncoder()\n",
    "y_encoded = label_encoder.fit_transform(y)"
   ]
  },
  {
   "cell_type": "markdown",
   "id": "98996c0b",
   "metadata": {},
   "source": [
    "### Splitting to training and testing data"
   ]
  },
  {
   "cell_type": "code",
   "execution_count": 6,
   "id": "10e9a8b4",
   "metadata": {},
   "outputs": [
    {
     "name": "stdout",
     "output_type": "stream",
     "text": [
      "Training set size: 262\n",
      "Test set size: 66\n"
     ]
    }
   ],
   "source": [
    "from sklearn.model_selection import train_test_split\n",
    "X_train, X_test, y_train, y_test = train_test_split(X, y_encoded, test_size=0.2, random_state=42, stratify=y)\n",
    "# 0.2 test split\n",
    "\n",
    "print(\"Training set size:\", len(X_train))\n",
    "print(\"Test set size:\", len(X_test))"
   ]
  },
  {
   "cell_type": "markdown",
   "id": "6cdc809f",
   "metadata": {},
   "source": [
    "### Text Embedding using the BERT (gives the best contextual embeddings)"
   ]
  },
  {
   "cell_type": "code",
   "execution_count": 7,
   "id": "7e119b97",
   "metadata": {},
   "outputs": [],
   "source": [
    "from transformers import BertTokenizer, BertModel\n",
    "import torch\n",
    "import numpy as np \n",
    "\n",
    "tokenizer = BertTokenizer.from_pretrained('bert-base-uncased')\n",
    "bert_model = BertModel.from_pretrained('bert-base-uncased')\n",
    "\n",
    "bert_model.eval()\n",
    "\n",
    "def get_bert_embeddings(text_list, model, tokenizer, max_length=128):\n",
    "    embeddings = []\n",
    "    \n",
    "    for text in text_list:\n",
    "        inputs = tokenizer(\n",
    "            text,\n",
    "            return_tensors='pt',\n",
    "            truncation=True,\n",
    "            padding='max_length',\n",
    "            max_length=max_length\n",
    "        )\n",
    "        \n",
    "        with torch.no_grad():\n",
    "            outputs = model(**inputs)\n",
    "        \n",
    "        cls_embedding = outputs.last_hidden_state[:, 0, :].squeeze().numpy()\n",
    "        embeddings.append(cls_embedding)\n",
    "    \n",
    "    return np.array(embeddings)"
   ]
  },
  {
   "cell_type": "markdown",
   "id": "4e445f72",
   "metadata": {},
   "source": [
    "#### Generate BERT embeddings for train and test data"
   ]
  },
  {
   "cell_type": "code",
   "execution_count": 8,
   "id": "2858a4f2",
   "metadata": {},
   "outputs": [],
   "source": [
    "# Training data embedding\n",
    "X_train_embeddings = get_bert_embeddings(X_train.tolist(), bert_model, tokenizer)\n",
    "\n",
    "#Test data embedding\n",
    "X_test_embeddings = get_bert_embeddings(X_test.tolist(), bert_model, tokenizer)"
   ]
  },
  {
   "cell_type": "markdown",
   "id": "51d7a3ae",
   "metadata": {},
   "source": [
    "### Training using Neural Network"
   ]
  },
  {
   "cell_type": "code",
   "execution_count": 9,
   "id": "669c73e1",
   "metadata": {},
   "outputs": [
    {
     "name": "stdout",
     "output_type": "stream",
     "text": [
      "Model: \"sequential\"\n",
      "_________________________________________________________________\n",
      " Layer (type)                Output Shape              Param #   \n",
      "=================================================================\n",
      " dense (Dense)               (None, 256)               196864    \n",
      "                                                                 \n",
      " dropout (Dropout)           (None, 256)               0         \n",
      "                                                                 \n",
      " dense_1 (Dense)             (None, 128)               32896     \n",
      "                                                                 \n",
      " dropout_1 (Dropout)         (None, 128)               0         \n",
      "                                                                 \n",
      " dense_2 (Dense)             (None, 21)                2709      \n",
      "                                                                 \n",
      "=================================================================\n",
      "Total params: 232,469\n",
      "Trainable params: 232,469\n",
      "Non-trainable params: 0\n",
      "_________________________________________________________________\n"
     ]
    }
   ],
   "source": [
    "from tensorflow.keras.models import Sequential\n",
    "from tensorflow.keras.layers import Dense, Dropout\n",
    "from tensorflow.keras.utils import to_categorical\n",
    "\n",
    "# Convert labels to one-hot encoding for Keras\n",
    "y_train_categorical = to_categorical(y_train)\n",
    "y_test_categorical = to_categorical(y_test)\n",
    "\n",
    "# Adding dropout for regularization\n",
    "model = Sequential([\n",
    "    Dense(256, activation='relu', input_shape=(X_train_embeddings.shape[1],)),\n",
    "    Dropout(0.3),\n",
    "    Dense(128, activation='relu'),\n",
    "    Dropout(0.3),\n",
    "    Dense(len(np.unique(y_encoded)), activation='softmax')\n",
    "])\n",
    "\n",
    "model.compile(\n",
    "    optimizer='adam',\n",
    "    loss='categorical_crossentropy',\n",
    "    metrics=['accuracy']\n",
    ")\n",
    "\n",
    "model.summary()"
   ]
  },
  {
   "cell_type": "code",
   "execution_count": 10,
   "id": "dffd2ca1",
   "metadata": {},
   "outputs": [
    {
     "name": "stdout",
     "output_type": "stream",
     "text": [
      "Epoch 1/20\n",
      "9/9 [==============================] - 1s 42ms/step - loss: 3.0564 - accuracy: 0.0649 - val_loss: 2.7903 - val_accuracy: 0.2273\n",
      "Epoch 2/20\n",
      "9/9 [==============================] - 0s 8ms/step - loss: 2.7835 - accuracy: 0.1870 - val_loss: 2.6615 - val_accuracy: 0.2576\n",
      "Epoch 3/20\n",
      "9/9 [==============================] - 0s 9ms/step - loss: 2.5762 - accuracy: 0.2634 - val_loss: 2.5280 - val_accuracy: 0.3939\n",
      "Epoch 4/20\n",
      "9/9 [==============================] - 0s 9ms/step - loss: 2.4572 - accuracy: 0.3053 - val_loss: 2.3643 - val_accuracy: 0.3788\n",
      "Epoch 5/20\n",
      "9/9 [==============================] - 0s 9ms/step - loss: 2.2483 - accuracy: 0.3511 - val_loss: 2.1604 - val_accuracy: 0.4545\n",
      "Epoch 6/20\n",
      "9/9 [==============================] - 0s 9ms/step - loss: 2.1099 - accuracy: 0.3931 - val_loss: 2.0442 - val_accuracy: 0.4697\n",
      "Epoch 7/20\n",
      "9/9 [==============================] - 0s 13ms/step - loss: 1.9063 - accuracy: 0.4847 - val_loss: 1.9104 - val_accuracy: 0.5303\n",
      "Epoch 8/20\n",
      "9/9 [==============================] - 0s 9ms/step - loss: 1.6840 - accuracy: 0.5229 - val_loss: 1.7715 - val_accuracy: 0.5758\n",
      "Epoch 9/20\n",
      "9/9 [==============================] - 0s 12ms/step - loss: 1.5299 - accuracy: 0.5763 - val_loss: 1.6888 - val_accuracy: 0.5758\n",
      "Epoch 10/20\n",
      "9/9 [==============================] - 0s 10ms/step - loss: 1.3495 - accuracy: 0.6107 - val_loss: 1.5240 - val_accuracy: 0.6667\n",
      "Epoch 11/20\n",
      "9/9 [==============================] - 0s 10ms/step - loss: 1.2356 - accuracy: 0.6565 - val_loss: 1.4715 - val_accuracy: 0.6364\n",
      "Epoch 12/20\n",
      "9/9 [==============================] - 0s 12ms/step - loss: 1.1413 - accuracy: 0.7176 - val_loss: 1.3744 - val_accuracy: 0.6212\n",
      "Epoch 13/20\n",
      "9/9 [==============================] - 0s 9ms/step - loss: 0.9866 - accuracy: 0.7405 - val_loss: 1.3607 - val_accuracy: 0.6364\n",
      "Epoch 14/20\n",
      "9/9 [==============================] - 0s 11ms/step - loss: 0.9322 - accuracy: 0.7443 - val_loss: 1.2424 - val_accuracy: 0.7121\n",
      "Epoch 15/20\n",
      "9/9 [==============================] - 0s 12ms/step - loss: 0.8052 - accuracy: 0.8015 - val_loss: 1.2368 - val_accuracy: 0.6515\n",
      "Epoch 16/20\n",
      "9/9 [==============================] - 0s 13ms/step - loss: 0.7163 - accuracy: 0.8244 - val_loss: 1.2107 - val_accuracy: 0.6364\n",
      "Epoch 17/20\n",
      "9/9 [==============================] - 0s 10ms/step - loss: 0.6843 - accuracy: 0.8282 - val_loss: 1.1740 - val_accuracy: 0.6667\n",
      "Epoch 18/20\n",
      "9/9 [==============================] - 0s 13ms/step - loss: 0.5885 - accuracy: 0.8435 - val_loss: 1.1910 - val_accuracy: 0.6364\n",
      "Epoch 19/20\n",
      "9/9 [==============================] - 0s 11ms/step - loss: 0.6515 - accuracy: 0.8092 - val_loss: 1.1115 - val_accuracy: 0.6818\n",
      "Epoch 20/20\n",
      "9/9 [==============================] - 0s 11ms/step - loss: 0.6156 - accuracy: 0.8244 - val_loss: 1.0940 - val_accuracy: 0.6515\n"
     ]
    }
   ],
   "source": [
    "history = model.fit(\n",
    "    X_train_embeddings, y_train_categorical,\n",
    "    validation_data=(X_test_embeddings, y_test_categorical),\n",
    "    epochs=20,\n",
    "    batch_size=32,\n",
    "    verbose=1\n",
    ")"
   ]
  },
  {
   "cell_type": "markdown",
   "id": "8b2f4166",
   "metadata": {},
   "source": [
    "### Evaluation"
   ]
  },
  {
   "cell_type": "code",
   "execution_count": 11,
   "id": "539ea369",
   "metadata": {},
   "outputs": [
    {
     "name": "stdout",
     "output_type": "stream",
     "text": [
      "3/3 [==============================] - 0s 4ms/step - loss: 1.0940 - accuracy: 0.6515\n",
      "Test Accuracy: 0.65\n"
     ]
    }
   ],
   "source": [
    "# Evaluate performance\n",
    "test_loss, test_accuracy = model.evaluate(X_test_embeddings, y_test_categorical)\n",
    "print(f\"Test Accuracy: {test_accuracy:.2f}\")"
   ]
  },
  {
   "cell_type": "markdown",
   "id": "982e10c1",
   "metadata": {},
   "source": [
    "### Predicting using test data"
   ]
  },
  {
   "cell_type": "code",
   "execution_count": 12,
   "id": "b7aed2f0",
   "metadata": {},
   "outputs": [
    {
     "name": "stdout",
     "output_type": "stream",
     "text": [
      "3/3 [==============================] - 0s 3ms/step\n",
      "                       precision    recall  f1-score   support\n",
      "\n",
      "100_NIGHT_TRIAL_OFFER       0.43      0.75      0.55         4\n",
      "   ABOUT_SOF_MATTRESS       0.50      0.50      0.50         2\n",
      "         CANCEL_ORDER       1.00      1.00      1.00         2\n",
      "        CHECK_PINCODE       1.00      0.50      0.67         2\n",
      "                  COD       1.00      1.00      1.00         2\n",
      "           COMPARISON       0.67      1.00      0.80         2\n",
      "    DELAY_IN_DELIVERY       1.00      0.50      0.67         2\n",
      "         DISTRIBUTORS       1.00      1.00      1.00         7\n",
      "                  EMI       0.50      0.20      0.29         5\n",
      "        ERGO_FEATURES       0.00      0.00      0.00         2\n",
      "             LEAD_GEN       0.25      0.50      0.33         4\n",
      "        MATTRESS_COST       0.62      1.00      0.77         5\n",
      "               OFFERS       1.00      0.50      0.67         2\n",
      "         ORDER_STATUS       1.00      0.50      0.67         4\n",
      "       ORTHO_FEATURES       1.00      0.75      0.86         4\n",
      "              PILLOWS       0.67      1.00      0.80         2\n",
      "     PRODUCT_VARIANTS       0.75      0.75      0.75         4\n",
      "      RETURN_EXCHANGE       0.00      0.00      0.00         3\n",
      "   SIZE_CUSTOMIZATION       0.50      0.50      0.50         2\n",
      "             WARRANTY       1.00      1.00      1.00         2\n",
      "   WHAT_SIZE_TO_ORDER       1.00      0.50      0.67         4\n",
      "\n",
      "             accuracy                           0.65        66\n",
      "            macro avg       0.71      0.64      0.64        66\n",
      "         weighted avg       0.71      0.65      0.65        66\n",
      "\n"
     ]
    },
    {
     "name": "stderr",
     "output_type": "stream",
     "text": [
      "C:\\Users\\Shruthi Mohan\\anaconda3\\lib\\site-packages\\sklearn\\metrics\\_classification.py:1509: UndefinedMetricWarning: Precision is ill-defined and being set to 0.0 in labels with no predicted samples. Use `zero_division` parameter to control this behavior.\n",
      "  _warn_prf(average, modifier, f\"{metric.capitalize()} is\", len(result))\n",
      "C:\\Users\\Shruthi Mohan\\anaconda3\\lib\\site-packages\\sklearn\\metrics\\_classification.py:1509: UndefinedMetricWarning: Precision is ill-defined and being set to 0.0 in labels with no predicted samples. Use `zero_division` parameter to control this behavior.\n",
      "  _warn_prf(average, modifier, f\"{metric.capitalize()} is\", len(result))\n",
      "C:\\Users\\Shruthi Mohan\\anaconda3\\lib\\site-packages\\sklearn\\metrics\\_classification.py:1509: UndefinedMetricWarning: Precision is ill-defined and being set to 0.0 in labels with no predicted samples. Use `zero_division` parameter to control this behavior.\n",
      "  _warn_prf(average, modifier, f\"{metric.capitalize()} is\", len(result))\n"
     ]
    }
   ],
   "source": [
    "y_pred = model.predict(X_test_embeddings)\n",
    "y_pred_labels = y_pred.argmax(axis=1)\n",
    "\n",
    "from sklearn.metrics import classification_report\n",
    "print(classification_report(y_test, y_pred_labels, target_names=label_encoder.classes_))"
   ]
  },
  {
   "cell_type": "raw",
   "id": "4e9758a0",
   "metadata": {},
   "source": [
    "From the above, we can see there is an imbalanced classification\n",
    "Steps to get better predictions:\n",
    "- Add class weights to handle imbalance classification\n",
    "- Better models like roBERTa for better embeddings\n",
    "- Cross validation and hyperparameter tuning"
   ]
  },
  {
   "cell_type": "code",
   "execution_count": null,
   "id": "3f92e21e",
   "metadata": {},
   "outputs": [],
   "source": []
  },
  {
   "cell_type": "markdown",
   "id": "b62c820c",
   "metadata": {},
   "source": [
    "### Calculating the class weights"
   ]
  },
  {
   "cell_type": "code",
   "execution_count": 13,
   "id": "de5d77cc",
   "metadata": {},
   "outputs": [],
   "source": [
    "from sklearn.utils.class_weight import compute_class_weight\n",
    "class_weights = compute_class_weight(class_weight='balanced', classes=np.unique(y_encoded), y=y_encoded)\n",
    "class_weights_dict = dict(zip(np.unique(y_encoded), class_weights))"
   ]
  },
  {
   "cell_type": "markdown",
   "id": "120c1781",
   "metadata": {},
   "source": [
    "### Fitting and Evaluating the model with class weights"
   ]
  },
  {
   "cell_type": "code",
   "execution_count": 15,
   "id": "9219c480",
   "metadata": {},
   "outputs": [
    {
     "name": "stdout",
     "output_type": "stream",
     "text": [
      "Epoch 1/10\n",
      "9/9 [==============================] - 0s 10ms/step - loss: 0.5230 - accuracy: 0.8740 - val_loss: 1.1355 - val_accuracy: 0.6970\n",
      "Epoch 2/10\n",
      "9/9 [==============================] - 0s 6ms/step - loss: 0.5121 - accuracy: 0.8702 - val_loss: 1.0776 - val_accuracy: 0.6970\n",
      "Epoch 3/10\n",
      "9/9 [==============================] - 0s 7ms/step - loss: 0.4232 - accuracy: 0.8817 - val_loss: 1.0144 - val_accuracy: 0.6818\n",
      "Epoch 4/10\n",
      "9/9 [==============================] - 0s 6ms/step - loss: 0.4364 - accuracy: 0.8817 - val_loss: 1.0262 - val_accuracy: 0.6818\n",
      "Epoch 5/10\n",
      "9/9 [==============================] - 0s 7ms/step - loss: 0.3611 - accuracy: 0.8969 - val_loss: 1.0005 - val_accuracy: 0.7121\n",
      "Epoch 6/10\n",
      "9/9 [==============================] - 0s 7ms/step - loss: 0.3822 - accuracy: 0.9122 - val_loss: 1.0542 - val_accuracy: 0.6667\n",
      "Epoch 7/10\n",
      "9/9 [==============================] - 0s 6ms/step - loss: 0.3183 - accuracy: 0.9084 - val_loss: 0.9817 - val_accuracy: 0.7273\n",
      "Epoch 8/10\n",
      "9/9 [==============================] - 0s 7ms/step - loss: 0.2772 - accuracy: 0.9427 - val_loss: 0.9903 - val_accuracy: 0.7273\n",
      "Epoch 9/10\n",
      "9/9 [==============================] - 0s 6ms/step - loss: 0.3342 - accuracy: 0.9275 - val_loss: 1.0409 - val_accuracy: 0.6970\n",
      "Epoch 10/10\n",
      "9/9 [==============================] - 0s 7ms/step - loss: 0.3074 - accuracy: 0.9046 - val_loss: 1.0351 - val_accuracy: 0.6818\n"
     ]
    },
    {
     "data": {
      "text/plain": [
       "<keras.callbacks.History at 0x25b1c83cee0>"
      ]
     },
     "execution_count": 15,
     "metadata": {},
     "output_type": "execute_result"
    }
   ],
   "source": [
    "model.fit(\n",
    "    X_train_embeddings,\n",
    "    y_train_categorical,\n",
    "    validation_data=(X_test_embeddings, y_test_categorical),\n",
    "    epochs=10,\n",
    "    batch_size=32,\n",
    "    class_weight=class_weights_dict\n",
    ")"
   ]
  },
  {
   "cell_type": "code",
   "execution_count": 16,
   "id": "c60c8e40",
   "metadata": {},
   "outputs": [
    {
     "name": "stdout",
     "output_type": "stream",
     "text": [
      "3/3 [==============================] - 0s 3ms/step - loss: 1.0351 - accuracy: 0.6818\n",
      "Test Accuracy: 0.68\n"
     ]
    }
   ],
   "source": [
    "# Evaluate performance\n",
    "test_loss, test_accuracy = model.evaluate(X_test_embeddings, y_test_categorical)\n",
    "print(f\"Test Accuracy: {test_accuracy:.2f}\")"
   ]
  },
  {
   "cell_type": "markdown",
   "id": "e1d852af",
   "metadata": {},
   "source": [
    "### Since there isnt much difference in the accuracy using class weights, we can ignore them"
   ]
  },
  {
   "cell_type": "code",
   "execution_count": null,
   "id": "5e4acbfc",
   "metadata": {},
   "outputs": [],
   "source": []
  },
  {
   "cell_type": "markdown",
   "id": "37db604a",
   "metadata": {},
   "source": [
    "### Hyper Parameter Tuning using GridSearchCV"
   ]
  },
  {
   "cell_type": "code",
   "execution_count": 14,
   "id": "a356f40f",
   "metadata": {},
   "outputs": [
    {
     "name": "stderr",
     "output_type": "stream",
     "text": [
      "C:\\Users\\SHRUTH~1\\AppData\\Local\\Temp/ipykernel_27360/188010099.py:23: DeprecationWarning: KerasClassifier is deprecated, use Sci-Keras (https://github.com/adriangb/scikeras) instead. See https://www.adriangb.com/scikeras/stable/migration.html for help migrating.\n",
      "  model_for_tuning = KerasClassifier(build_fn=build_model, epochs=20, batch_size=32, verbose=0)\n"
     ]
    },
    {
     "name": "stdout",
     "output_type": "stream",
     "text": [
      "Fitting 3 folds for each of 32 candidates, totalling 96 fits\n"
     ]
    }
   ],
   "source": [
    "from tensorflow.keras.wrappers.scikit_learn import KerasClassifier\n",
    "from sklearn.model_selection import GridSearchCV\n",
    "\n",
    "# Function to build model for tuning\n",
    "def build_model(optimizer='adam', dropout_rate=0.3, dense_units=256):\n",
    "    model = Sequential([\n",
    "        Dense(dense_units, activation='relu', input_shape=(X_train_embeddings.shape[1],)),\n",
    "        Dropout(dropout_rate),\n",
    "        Dense(dense_units // 2, activation='relu'),\n",
    "        Dropout(dropout_rate),\n",
    "        Dense(len(np.unique(y_encoded)), activation='softmax')\n",
    "    ])\n",
    "    \n",
    "    model.compile(\n",
    "        optimizer=optimizer,\n",
    "        loss='categorical_crossentropy',\n",
    "        metrics=['accuracy']\n",
    "    )\n",
    "    \n",
    "    return model\n",
    "\n",
    "model_for_tuning = KerasClassifier(build_fn=build_model, epochs=20, batch_size=32, verbose=0)\n",
    "param_grid = {\n",
    "    'optimizer': ['adam', 'rmsprop'],\n",
    "    'dropout_rate': [0.3, 0.5],\n",
    "    'dense_units': [256, 512],\n",
    "    'batch_size': [32, 64],\n",
    "    'epochs': [10, 20]\n",
    "}\n",
    "\n",
    "grid_search = GridSearchCV(estimator=model_for_tuning, param_grid=param_grid, cv=3, verbose=1)\n",
    "grid_search_result = grid_search.fit(X_train_embeddings, y_train_categorical)"
   ]
  },
  {
   "cell_type": "code",
   "execution_count": 15,
   "id": "c3f155c4",
   "metadata": {},
   "outputs": [
    {
     "name": "stdout",
     "output_type": "stream",
     "text": [
      "Best Hyperparameters: {'batch_size': 32, 'dense_units': 512, 'dropout_rate': 0.3, 'epochs': 20, 'optimizer': 'adam'}\n"
     ]
    },
    {
     "data": {
      "text/plain": [
       "0.6969696879386902"
      ]
     },
     "execution_count": 15,
     "metadata": {},
     "output_type": "execute_result"
    }
   ],
   "source": [
    "print(f\"Best Hyperparameters: {grid_search_result.best_params_}\")\n",
    "best_model = grid_search_result.best_estimator_\n",
    "best_model.score(X_test_embeddings, y_test_categorical)"
   ]
  },
  {
   "cell_type": "code",
   "execution_count": null,
   "id": "4634d985",
   "metadata": {},
   "outputs": [],
   "source": []
  },
  {
   "cell_type": "markdown",
   "id": "b3d1e408",
   "metadata": {},
   "source": [
    "### Tweaking parameters"
   ]
  },
  {
   "cell_type": "code",
   "execution_count": 16,
   "id": "1092221b",
   "metadata": {},
   "outputs": [
    {
     "name": "stdout",
     "output_type": "stream",
     "text": [
      "Fitting 3 folds for each of 24 candidates, totalling 72 fits\n"
     ]
    }
   ],
   "source": [
    "param_grid = {\n",
    "    'dropout_rate': [0.2, 0.3, 0.4],\n",
    "    'dense_units': [512, 1024],\n",
    "    'batch_size': [16, 32],\n",
    "    'epochs': [20, 30]\n",
    "}\n",
    "\n",
    "grid_search = GridSearchCV(estimator=model_for_tuning, param_grid=param_grid, cv=3, verbose=1)\n",
    "grid_search_result = grid_search.fit(X_train_embeddings, y_train_categorical)"
   ]
  },
  {
   "cell_type": "code",
   "execution_count": 17,
   "id": "4b0a1de8",
   "metadata": {},
   "outputs": [
    {
     "name": "stdout",
     "output_type": "stream",
     "text": [
      "Best Hyperparameters: {'batch_size': 16, 'dense_units': 512, 'dropout_rate': 0.4, 'epochs': 30}\n"
     ]
    },
    {
     "data": {
      "text/plain": [
       "0.6969696879386902"
      ]
     },
     "execution_count": 17,
     "metadata": {},
     "output_type": "execute_result"
    }
   ],
   "source": [
    "print(f\"Best Hyperparameters: {grid_search_result.best_params_}\")\n",
    "best_model = grid_search_result.best_estimator_\n",
    "best_model.score(X_test_embeddings, y_test_categorical)"
   ]
  },
  {
   "cell_type": "markdown",
   "id": "9a330be9",
   "metadata": {},
   "source": [
    "ACCURACY ~ 70%"
   ]
  }
 ],
 "metadata": {
  "kernelspec": {
   "display_name": "Python 3 (ipykernel)",
   "language": "python",
   "name": "python3"
  },
  "language_info": {
   "codemirror_mode": {
    "name": "ipython",
    "version": 3
   },
   "file_extension": ".py",
   "mimetype": "text/x-python",
   "name": "python",
   "nbconvert_exporter": "python",
   "pygments_lexer": "ipython3",
   "version": "3.9.7"
  }
 },
 "nbformat": 4,
 "nbformat_minor": 5
}
